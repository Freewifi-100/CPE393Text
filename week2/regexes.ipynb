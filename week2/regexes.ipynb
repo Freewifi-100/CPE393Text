{
 "cells": [
  {
   "cell_type": "code",
   "execution_count": 59,
   "metadata": {},
   "outputs": [],
   "source": [
    "import pandas as pd\n",
    "import numpy as np\n",
    "import nltk\n",
    "import re\n",
    "#do not show warnings\n",
    "import warnings\n",
    "warnings.filterwarnings(\"ignore\")"
   ]
  },
  {
   "cell_type": "markdown",
   "metadata": {},
   "source": [
    "### prepare data US and clean"
   ]
  },
  {
   "cell_type": "code",
   "execution_count": 61,
   "metadata": {},
   "outputs": [],
   "source": [
    "df = pd.read_table('https://github.com/blueprints-for-text-analytics-python/blueprints-text/raw/193c79c7d94973f2398e67da8d20bf7a535f7f40/data/un-general-debates/un-general-debates-blueprint.csv.gz', compression='gzip', sep=',', quotechar='\"', error_bad_lines=False)"
   ]
  },
  {
   "cell_type": "code",
   "execution_count": 122,
   "metadata": {},
   "outputs": [],
   "source": [
    "df_US = df[df['country_name'] == 'United States']"
   ]
  },
  {
   "cell_type": "code",
   "execution_count": 142,
   "metadata": {},
   "outputs": [],
   "source": [
    "def remove_special_characters(text):\n",
    "    return re.sub('[^A-Za-z0-9\\,\\.\\-\\_]+', ' ', text)\n",
    "df_US['text'] = df_US['text'].apply(remove_special_characters).str.strip()\n",
    "df_US['text'] = df_US['text'].str.lower()"
   ]
  },
  {
   "cell_type": "markdown",
   "metadata": {},
   "source": [
    "# Barack Obama\n",
    "Barack Obama is an American politician and attorney who served as the 44th President of the United States from 2009 to 2017. He was the first African American to be elected to the presidency. Obama was born in Honolulu, Hawaii, on August 4, 1961. Prior to his presidency, he served as a U.S. Senator from Illinois from 2005 to 2008. During his presidency, Obama implemented several major policies, including the American Recovery and Reinvestment Act, the Dodd-Frank Wall Street Reform and Consumer Protection Act, and the Affordable Care Act (also known as Obamacare). He also oversaw the end of the U.S. military involvement in Iraq and the killing of Osama bin Laden, the leader of Al-Qaeda. After leaving office, Obama has continued to be an active and influential figure, speaking out on issues such as **climate change**, **racial justice**, and **democracy**."
   ]
  },
  {
   "cell_type": "code",
   "execution_count": 144,
   "metadata": {},
   "outputs": [
    {
     "data": {
      "text/html": [
       "<div>\n",
       "<style scoped>\n",
       "    .dataframe tbody tr th:only-of-type {\n",
       "        vertical-align: middle;\n",
       "    }\n",
       "\n",
       "    .dataframe tbody tr th {\n",
       "        vertical-align: top;\n",
       "    }\n",
       "\n",
       "    .dataframe thead th {\n",
       "        text-align: right;\n",
       "    }\n",
       "</style>\n",
       "<table border=\"1\" class=\"dataframe\">\n",
       "  <thead>\n",
       "    <tr style=\"text-align: right;\">\n",
       "      <th></th>\n",
       "      <th>session</th>\n",
       "      <th>year</th>\n",
       "      <th>country</th>\n",
       "      <th>country_name</th>\n",
       "      <th>speaker</th>\n",
       "      <th>position</th>\n",
       "      <th>text</th>\n",
       "    </tr>\n",
       "  </thead>\n",
       "  <tbody>\n",
       "    <tr>\n",
       "      <th>6336</th>\n",
       "      <td>64</td>\n",
       "      <td>2009</td>\n",
       "      <td>USA</td>\n",
       "      <td>United States</td>\n",
       "      <td>Barack Obama</td>\n",
       "      <td>President</td>\n",
       "      <td>it is my honour to address the assembly for th...</td>\n",
       "    </tr>\n",
       "    <tr>\n",
       "      <th>6526</th>\n",
       "      <td>65</td>\n",
       "      <td>2010</td>\n",
       "      <td>USA</td>\n",
       "      <td>United States</td>\n",
       "      <td>Barack Obama</td>\n",
       "      <td>President</td>\n",
       "      <td>it is a great honour to address this assembly ...</td>\n",
       "    </tr>\n",
       "    <tr>\n",
       "      <th>6719</th>\n",
       "      <td>66</td>\n",
       "      <td>2011</td>\n",
       "      <td>USA</td>\n",
       "      <td>United States</td>\n",
       "      <td>Barack Obama</td>\n",
       "      <td>President</td>\n",
       "      <td>it is a great honour for me to be here today. ...</td>\n",
       "    </tr>\n",
       "    <tr>\n",
       "      <th>6914</th>\n",
       "      <td>67</td>\n",
       "      <td>2012</td>\n",
       "      <td>USA</td>\n",
       "      <td>United States</td>\n",
       "      <td>Barack Obama</td>\n",
       "      <td>President</td>\n",
       "      <td>i would like to begin today by telling the ass...</td>\n",
       "    </tr>\n",
       "    <tr>\n",
       "      <th>7107</th>\n",
       "      <td>68</td>\n",
       "      <td>2013</td>\n",
       "      <td>USA</td>\n",
       "      <td>United States</td>\n",
       "      <td>Barack Obama</td>\n",
       "      <td>President</td>\n",
       "      <td>each year we come together to reaffirm the fou...</td>\n",
       "    </tr>\n",
       "    <tr>\n",
       "      <th>7301</th>\n",
       "      <td>69</td>\n",
       "      <td>2014</td>\n",
       "      <td>USA</td>\n",
       "      <td>United States</td>\n",
       "      <td>Barack Obama</td>\n",
       "      <td>President</td>\n",
       "      <td>we come together at a crossroads between war a...</td>\n",
       "    </tr>\n",
       "    <tr>\n",
       "      <th>7495</th>\n",
       "      <td>70</td>\n",
       "      <td>2015</td>\n",
       "      <td>USA</td>\n",
       "      <td>United States</td>\n",
       "      <td>Barack Obama</td>\n",
       "      <td>President</td>\n",
       "      <td>seventy years after the founding of the united...</td>\n",
       "    </tr>\n",
       "  </tbody>\n",
       "</table>\n",
       "</div>"
      ],
      "text/plain": [
       "      session  year country   country_name       speaker   position  \\\n",
       "6336       64  2009     USA  United States  Barack Obama  President   \n",
       "6526       65  2010     USA  United States  Barack Obama  President   \n",
       "6719       66  2011     USA  United States  Barack Obama  President   \n",
       "6914       67  2012     USA  United States  Barack Obama  President   \n",
       "7107       68  2013     USA  United States  Barack Obama  President   \n",
       "7301       69  2014     USA  United States  Barack Obama  President   \n",
       "7495       70  2015     USA  United States  Barack Obama  President   \n",
       "\n",
       "                                                   text  \n",
       "6336  it is my honour to address the assembly for th...  \n",
       "6526  it is a great honour to address this assembly ...  \n",
       "6719  it is a great honour for me to be here today. ...  \n",
       "6914  i would like to begin today by telling the ass...  \n",
       "7107  each year we come together to reaffirm the fou...  \n",
       "7301  we come together at a crossroads between war a...  \n",
       "7495  seventy years after the founding of the united...  "
      ]
     },
     "execution_count": 144,
     "metadata": {},
     "output_type": "execute_result"
    }
   ],
   "source": [
    "Obama = df_US[df_US['speaker'] == \"Barack Obama\"]\n",
    "Obama"
   ]
  },
  {
   "cell_type": "markdown",
   "metadata": {},
   "source": [
    "### Climate change"
   ]
  },
  {
   "cell_type": "markdown",
   "metadata": {},
   "source": [
    "1. Why you want to discover such a pattern?\n",
    "\n",
    "      **ANS** Based on my search about Barack Obama's background, you anticipated that he would speak about climate change during debates at the United Nations. I use this pattern brcause I want to see a part of sentence related with climate.\n",
    "\n",
    "2. why is it interesting to you?\n",
    "\n",
    "      **ANS** Obama is a well-respected global leader and his opinions on climate change are likely to be of interest at the UN. His advocacy can help bring attention to the importance of addressing this pressing issue.\n",
    "\n",
    "3. Does the regex work as you expected?\n",
    "\n",
    "      **ANS** Yes, it does."
   ]
  },
  {
   "cell_type": "code",
   "execution_count": 146,
   "metadata": {},
   "outputs": [
    {
     "name": "stdout",
     "output_type": "stream",
     "text": [
      "2009 to confront climate change we have invested 80 billion in clean energy.\n",
      "2009 launched an energy partnership across the americas and moved from being a bystander to being a leader in international climate negotiations.\n",
      "2009 and i thank the secretary-general for hosting the summit on climate change yesterday.\n",
      "2009 the danger posed by climate change cannot be denied.\n",
      "2009 and any effort that fails both to help the poorest nations to adapt to the problems that climate change has already wrought and to help them travel a path of clean development simply will not work.\n",
      "2010 we are also confronting the spectre of climate change.\n",
      "2011 we must not put off action that climate change demands.\n",
      "2013 combating climate change, starting businesses, expanding freedom, and leaving behind the old ideological battles of the past.\n",
      "2014 but the science tells us that we can succeed in combating climate change only if we are joined in that effort by every other nation, by every major power.\n",
      "2015 we can roll back the pollution that we put in our skies and help economies lift people out of poverty without condemning our children to the ravages of an ever-warming climate.\n",
      "2015 no country can escape the ravages of climate change.\n"
     ]
    }
   ],
   "source": [
    "#find every year that have the word \"climate\" in it and print it\n",
    "for i in range(Obama.shape[0]):\n",
    "    matches = re.finditer(r'([^\\s\\.\\,][a-zA-Z\\s\\-]+)climate(\\.|\\,|\\s[a-zA-Z\\s0-9\\,]+\\.)', Obama['text'].iloc[i])\n",
    "    if matches:\n",
    "        for match in matches:\n",
    "            print(Obama['year'].iloc[i],match.group())"
   ]
  },
  {
   "cell_type": "markdown",
   "metadata": {},
   "source": [
    "> `Notice:` According to the results, throughout his presidency, Barack Obama has been an advocate for addressing the issue of climate change. He has spoken out about the importance of taking action on this issue in almost every year, with the exception of 2012. This shows a consistent and persistent commitment to raising awareness about the issue and the need for solutions."
   ]
  },
  {
   "cell_type": "markdown",
   "metadata": {},
   "source": [
    "### Democracy\n",
    "1. Why you want to discover such a pattern?\n",
    "\n",
    "      **ANS** I would like to know the plan of the US for promoting democracy, the direction in which America is pushing for its advancement, and the policies of President Barack Obama that are a strong point in his commitment to democracy.\n",
    "\n",
    "2. why is it interesting to you?\n",
    "\n",
    "      **ANS** America is often seen as a symbol of democracy around the world, and its political system and government practices are studied and imitated by many countries.\n",
    "\n",
    "3. Does the regex work as you expected?\n",
    "\n",
    "      **ANS** Yes, it does."
   ]
  },
  {
   "cell_type": "code",
   "execution_count": 160,
   "metadata": {},
   "outputs": [
    {
     "name": "stdout",
     "output_type": "stream",
     "text": [
      "2009 and i admit that america has too often been selective in its promotion of democracy.\n",
      "2010 make no mistake the ultimate success of democracy in the world will not come because the united states dictates it it will come because individual citizens demand a say in how they are governed.\n",
      "2010 just as every democracy reflects the uniqueness of a nation.\n",
      "2010 which peacefully threw off colonialism and established a thriving democracy of over a billion people.\n",
      "2010 an ancient culture that found peace and extraordinary development through democracy.\n",
      "2010 it is time for every member state to open its elections to international monitors and increase the united nations democracy fund.\n",
      "2010 and so atrocities like sexual violence are prevented and justice is enforced because neither dignity nor democracy can thrive without basic security.\n",
      "2011 now the people of tunisia are preparing for elections that will move them one step closer to the democracy that they deserve.\n",
      "2011 some religions and some ethnicities do not desire democracy.\n",
      "2011 those nations that transition to democracy,\n",
      "2012 he supported the birth of a new democracy as libyans held elections and built new institutions and began to move forward after decades of dictatorship.\n",
      "2012 because our support for democracy ultimately put us on the side of the people.\n",
      "2012 and even as there will be huge challenges that come with a transition to democracy,\n",
      "2012 and yet the turmoil of recent weeks reminds us that the path to democracy does not end with the casting of a ballot.\n",
      "2012 true democracy demands that citizens cannot be thrown in jail because of what they believe and that businesses can be opened without paying a bribe.\n",
      "2012 true democracy real freedom is hard work.\n",
      "2012 which is moving towards democracy.\n",
      "2012 to educate our children and create the opportunities that they deserve protect human rights and extend democracy s promise.\n",
      "2013 and we will continue to promote democracy,\n",
      "2013 iraq has shown us that democracy cannot simply be imposed by force.\n",
      "2013 has made decisions inconsistent with inclusive democracy,\n",
      "2013 for the hard work of forging freedom and democracy is the task of a generation.\n",
      "2014 america and our allies will support the people of ukraine as they develop their democracy and economy.\n",
      "2014 where what began as a violent transition has evolved into a genuine democracy.\n",
      "2014 we address our differences in the open space of democracy,\n",
      "2015 it is those international principles that have helped constrain bigger countries from imposing their will on smaller ones and have advanced the emergence of democracy and development and individual liberty on every continent.\n",
      "2015 catastrophes like what we are seeing in syria do not take place in countries where there is genuine democracy and respect for the universal values this institution is supposed to defend.\n",
      "2015 i recognize that democracy is going to take different forms in different parts of the world.\n",
      "2015 i understand that democracy is frustrating.\n",
      "2015 inclusive democracy,\n",
      "2015 that is part of democracy.\n"
     ]
    }
   ],
   "source": [
    "#find every year that have the word \"democracy\" in it and print it\n",
    "for i in range(Obama.shape[0]):\n",
    "    matches = re.finditer(r'([^\\s\\.\\,][a-zA-Z\\s\\-]+)democracy(\\.|\\,|\\s[a-zA-Z\\s0-9]+\\.)', Obama['text'].iloc[i])\n",
    "    if matches:\n",
    "        for match in matches:\n",
    "            print(Obama['year'].iloc[i],match.group())\n",
    "    else:\n",
    "        print(\"No matches found\")"
   ]
  },
  {
   "cell_type": "markdown",
   "metadata": {},
   "source": [
    "> `Notice:` According to the results, TThroughout his presidency, Barack Obama emphasized the importance of democracy and supported its promotion globally. He believed that the success of democracy in the world will come from the demand of individual citizens and not from the dictation of the United States. Obama acknowledged that democracy takes different forms in different parts of the world, but emphasized the importance of open and fair elections, protection of human rights, and the rule of law."
   ]
  },
  {
   "cell_type": "markdown",
   "metadata": {},
   "source": [
    "### China or Russia\n",
    "1. Why you want to discover such a pattern?\n",
    "\n",
    "      **ANS** When it comes to the United States' relationships with countries in the world, the only two I am aware of are China and Russia. And I want to see to context in sentence.\n",
    "\n",
    "2. why is it interesting to you?\n",
    "\n",
    "      **ANS** China and Russia are certainly two significant countries with which the United States has had a long and complex history.\n",
    "\n",
    "3. Does the regex work as you expected?\n",
    "\n",
    "      **ANS** Yes, it does."
   ]
  },
  {
   "cell_type": "code",
   "execution_count": 164,
   "metadata": {},
   "outputs": [
    {
     "name": "stdout",
     "output_type": "stream",
     "text": [
      "-- China --\n",
      "2013 given president rouhani s stated commitment to reach an agreement, i am directing john kerry to pursue this effort with the iranian government, in close cooperation with the european union, the united kingdom, france, germany, russia and china.\n",
      "2015 even as our economy is growing and our troops have largely returned from iraq and afghanistan, we see in our debates about america s role in the world a notion of strength that is defined by opposition to old enemies, perceived adversaries a rising china or resurgent russia, a revolutionary iran or an islam that is incompatible with peace.\n",
      "2015 for two years, the united states and our partners, including russia and china,\n",
      "2015 similarly, in the south china sea, the united states makes no claim on territory there.\n",
      "2015 so we will defend those principles, while encouraging china and other claimants to resolve their differences peacefully.\n",
      "-- Russia --\n",
      "2009 in moscow, the united states and russia announced that we would pursue substantial reductions in our strategic warheads and launchers.\n",
      "2009 we will pursue a new agreement with russia to substantially reduce our strategic warheads and launches.\n",
      "2010 we have joined with russia to sign the most comprehensive arms control treaty in decades.\n",
      "2011 the new start treaty between the united states and russia will cut our deployed arsenals to the lowest level in half a century, and our nations are pursuing talks on how to achieve even deeper reductions.\n",
      "2012 nations have come together to lock down nuclear materials, and america and russia are reducing our arsenals.\n",
      "2013 petersburg, my preference has always been to work for a diplomatic resolution to this issue, and in the past several weeks, the united states, russia and our allies have reached an agreement to place syria s chemical weapons under international control and then destroy them.\n",
      "2013 given president rouhani s stated commitment to reach an agreement, i am directing john kerry to pursue this effort with the iranian government, in close cooperation with the european union, the united kingdom, france, germany, russia and china.\n",
      "2014 against the will of the government in kyiv, crimea was annexed by russia.\n",
      "2014 when ukraine started to reassert control over its territory, russia gave up the pretence of merely supporting the separatists and moved troops across the border.\n",
      "2014 we will impose a cost on russia for its aggression, and we will counter falsehoods with the truth.\n",
      "2014 if russia takes that path a path that for stretches of the post-cold war period resulted in prosperity for the russian people then we will lift our sanctions and welcome russia s role in addressing common challenges.\n",
      "2014 that is the kind of cooperation we are prepared to pursue again, if russia changes course.\n",
      "2015 even as our economy is growing and our troops have largely returned from iraq and afghanistan, we see in our debates about america s role in the world a notion of strength that is defined by opposition to old enemies, perceived adversaries a rising china or resurgent russia,\n",
      "2015 for two years, the united states and our partners, including russia and china, stuck together in complex negotiations.\n",
      "2015 consider russia s annexation of crimea and further aggression in eastern ukraine.\n",
      "2015 america has few economic interests in ukraine, and we recognize the deep and complex history between russia and ukraine.\n",
      "2015 that is the basis of the sanctions that the united states and our partners impose on russia.\n",
      "2015 now, within russia, state-controlled media may describe those events as an example of a resurgent russia a view shared, by the way, by a number of united states politicians and commentators who have always been deeply sceptical about russia and seem to be convinced that a new cold war is in fact upon us.\n",
      "2015 the ukrainian people are more interested than ever in aligning with europe instead of russia.\n",
      "2015 imagine if, instead, russia had engaged in true diplomacy and worked with ukraine and the international community to ensure that its interests were protected.\n",
      "2015 that would be better for ukraine, but also better for russia and better for the world, which is why we continue to press for this crisis to be resolved in a way that allows a sovereign and democratic ukraine to determine its future and control its territory.\n",
      "2015 this is not because we want to isolate russia we do not but because we want a strong russia that is invested in working with us to strengthen the international system as a whole.\n",
      "2015 the united states is prepared to work with any nation, including russia and iran, to resolve the conflict.\n"
     ]
    }
   ],
   "source": [
    "#find every year that have the word \"china\" in it and print it\n",
    "print('-- China --')\n",
    "for i in range(Obama.shape[0]):\n",
    "    matches = re.finditer(r'([^\\s\\.][a-zA-Z\\s\\-\\,]+)china(\\.|\\,|\\s[a-zA-Z\\s0-9\\,]+\\.)', Obama['text'].iloc[i])\n",
    "    if matches:\n",
    "        for match in matches:\n",
    "            print(Obama['year'].iloc[i],match.group())\n",
    "    else:\n",
    "        print(\"No matches found\")\n",
    "#find every year that have the word \"china\" in it and print it\n",
    "print('-- Russia --')\n",
    "for i in range(Obama.shape[0]):\n",
    "    matches = re.finditer(r'([^\\s\\.][a-zA-Z\\s\\-\\,]+)russia(\\.|\\,|\\s[a-zA-Z\\s0-9\\,]+\\.)', Obama['text'].iloc[i])\n",
    "    if matches:\n",
    "        for match in matches:\n",
    "            print(Obama['year'].iloc[i],match.group())\n",
    "    else:\n",
    "        print(\"No matches found\")"
   ]
  },
  {
   "cell_type": "markdown",
   "metadata": {},
   "source": [
    "> `Notice:` According to the results, Barack Obama regarding his stance on China and Russia. From the quotes, it seems that President Obama recognized China as a rising power and Russia as a potential adversary. He sought to work with both nations on various diplomatic efforts, but also imposed sanctions on Russia due to its annexation of Crimea. He believed in the importance of a strong international system, and was willing to work with any nation, including Russia and Iran, to resolve conflicts. However, he also recognized the deep and complex history between Russia and Ukraine and was in favor of Ukraine determining its own future and controlling its own territory."
   ]
  }
 ],
 "metadata": {
  "kernelspec": {
   "display_name": "Python 3.9.12 64-bit",
   "language": "python",
   "name": "python3"
  },
  "language_info": {
   "codemirror_mode": {
    "name": "ipython",
    "version": 3
   },
   "file_extension": ".py",
   "mimetype": "text/x-python",
   "name": "python",
   "nbconvert_exporter": "python",
   "pygments_lexer": "ipython3",
   "version": "3.9.12"
  },
  "orig_nbformat": 4,
  "vscode": {
   "interpreter": {
    "hash": "1d5c1156327dacead463cc502c55ebae8ce9c8c01979cf154173ff808e75bf55"
   }
  }
 },
 "nbformat": 4,
 "nbformat_minor": 2
}
